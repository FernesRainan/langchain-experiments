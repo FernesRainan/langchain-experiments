{
 "cells": [
  {
   "cell_type": "code",
   "execution_count": 1,
   "metadata": {},
   "outputs": [
    {
     "name": "stdout",
     "output_type": "stream",
     "text": [
      "> Entering new ConversationChain chain... Prompt after formatting: The following is a friendly conversation between a human and an AI. The AI is talkative and provides lots of specific details from its context. If the AI does not know the answer to a question, it truthfully says it does not know.\n",
      "\n",
      "Current conversation:\n",
      "\n",
      "Human: Hi there!\n",
      "\n",
      "AI:\n",
      "\n",
      "> Finished chain. Hello! How can I help you?\n",
      "\n",
      "> Entering new ConversationChain chain... Prompt after formatting: The following is a friendly conversation between a human and an AI. The AI is talkative and provides lots of specific details from its context. If the AI does not know the answer to a question, it truthfully says it does not know.\n",
      "\n",
      "Current conversation: Human: Hi there! AI:  Hello! How can I help you? Human: I'm doing well! Just having a conversation with an AI. AI:\n",
      "\n",
      "> Finished chain. That's good! My name is AI, and this is my context. I can help you with anything you need to know.\n"
     ]
    }
   ],
   "source": [
    "from unstructured.partition.auto import partition\n",
    "\n",
    "elements = partition(filename=\"./test.txt\")\n",
    "print(\"\\n\\n\".join([str(el) for el in elements]))"
   ]
  },
  {
   "cell_type": "code",
   "execution_count": 2,
   "metadata": {},
   "outputs": [
    {
     "name": "stderr",
     "output_type": "stream",
     "text": [
      "Downloading model_final.pth: 100%|██████████| 330M/330M [01:21<00:00, 4.07MB/s] \n",
      "Downloading (…)50_FPN_3x/config.yml: 100%|██████████| 5.37k/5.37k [00:00<00:00, 2.45MB/s]\n"
     ]
    },
    {
     "name": "stdout",
     "output_type": "stream",
     "text": [
      "Cheat Sheet 100+ Prompts to Unlock All The Power of ChatGPT bAyr Atirftiicfiicaial lC Coorrnneerr\n",
      "\n",
      "Where can I find data for my [describe project]? Where can I find data for my credit card fraud detection Where can I find data for my customer churn prediction project? How to [action] my dataset? How to oversample/undersample my dataset? How to split my dataset into train and test sets with Python?\n"
     ]
    }
   ],
   "source": [
    "from unstructured.partition.auto import partition\n",
    "\n",
    "elements = partition(filename=\"./test2.pdf\")\n",
    "print(\"\\n\\n\".join([str(el) for el in elements]))"
   ]
  },
  {
   "cell_type": "code",
   "execution_count": 4,
   "metadata": {},
   "outputs": [],
   "source": [
    "from langchain.document_loaders import UnstructuredFileLoader\n",
    "\n",
    "loader = UnstructuredFileLoader(\"test2.pdf\")\n",
    "docs = loader.load()\n",
    "docs[0].page_content[:400]"
   ]
  }
 ],
 "metadata": {
  "kernelspec": {
   "display_name": "langchain-env",
   "language": "python",
   "name": "python3"
  },
  "language_info": {
   "codemirror_mode": {
    "name": "ipython",
    "version": 3
   },
   "file_extension": ".py",
   "mimetype": "text/x-python",
   "name": "python",
   "nbconvert_exporter": "python",
   "pygments_lexer": "ipython3",
   "version": "3.8.16"
  },
  "orig_nbformat": 4
 },
 "nbformat": 4,
 "nbformat_minor": 2
}
